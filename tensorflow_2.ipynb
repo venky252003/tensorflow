{
 "cells": [
  {
   "cell_type": "code",
   "execution_count": 1,
   "source": [
    "import tensorflow as tf\r\n",
    "print(tf.__version__)"
   ],
   "outputs": [
    {
     "output_type": "stream",
     "name": "stdout",
     "text": [
      "2.3.2\n"
     ]
    }
   ],
   "metadata": {}
  },
  {
   "cell_type": "markdown",
   "source": [
    "### Constant Matrixs"
   ],
   "metadata": {}
  },
  {
   "cell_type": "code",
   "execution_count": 2,
   "source": [
    "const = tf.constant(10)\r\n",
    "print(const)\r\n",
    "print(\"To Numpy :\", const.numpy())\r\n",
    "\r\n",
    "## Convert datatype to decimal\r\n",
    "a = tf.constant(10, dtype=tf.float32)\r\n",
    "print(a)\r\n",
    "print(\"To Numpy :\", a.numpy())\r\n"
   ],
   "outputs": [
    {
     "output_type": "stream",
     "name": "stdout",
     "text": [
      "tf.Tensor(10, shape=(), dtype=int32)\n",
      "To Numpy : 10\n",
      "tf.Tensor(10.0, shape=(), dtype=float32)\n",
      "To Numpy : 10.0\n"
     ]
    }
   ],
   "metadata": {}
  },
  {
   "cell_type": "code",
   "execution_count": 5,
   "source": [
    "## Constant with matrix\r\n",
    "const_mat = tf.constant([[1, 2], [3, 4]])\r\n",
    "print(const_mat)\r\n",
    "print(const_mat.shape)\r\n",
    "print(const_mat.dtype)"
   ],
   "outputs": [
    {
     "output_type": "stream",
     "name": "stdout",
     "text": [
      "tf.Tensor(\n",
      "[[1 2]\n",
      " [3 4]], shape=(2, 2), dtype=int32)\n",
      "(2, 2)\n",
      "<dtype: 'int32'>\n"
     ]
    }
   ],
   "metadata": {}
  },
  {
   "cell_type": "code",
   "execution_count": 10,
   "source": [
    "# Tensors of ones and zeros\r\n",
    "print(tf.ones((2, 2)))\r\n",
    "print(tf.zeros((1, 2)))\r\n",
    "print(5*tf.ones((3, 2)))"
   ],
   "outputs": [
    {
     "output_type": "stream",
     "name": "stdout",
     "text": [
      "tf.Tensor(\n",
      "[[1. 1.]\n",
      " [1. 1.]], shape=(2, 2), dtype=float32)\n",
      "tf.Tensor([[0. 0.]], shape=(1, 2), dtype=float32)\n",
      "tf.Tensor(\n",
      "[[5. 5.]\n",
      " [5. 5.]\n",
      " [5. 5.]], shape=(3, 2), dtype=float32)\n"
     ]
    }
   ],
   "metadata": {}
  },
  {
   "cell_type": "code",
   "execution_count": 16,
   "source": [
    "# Add Operation\r\n",
    "a = tf.constant([[10, 20], [30, 40]])\r\n",
    "b = tf.constant([[40, 50], [60, 70]])\r\n",
    "print(a + b)\r\n",
    "print(tf.add(a, b))\r\n",
    "print((a - b))"
   ],
   "outputs": [
    {
     "output_type": "stream",
     "name": "stdout",
     "text": [
      "tf.Tensor(\n",
      "[[ 50  70]\n",
      " [ 90 110]], shape=(2, 2), dtype=int32)\n",
      "tf.Tensor(\n",
      "[[ 50  70]\n",
      " [ 90 110]], shape=(2, 2), dtype=int32)\n",
      "tf.Tensor(\n",
      "[[-30 -30]\n",
      " [-30 -30]], shape=(2, 2), dtype=int32)\n"
     ]
    }
   ],
   "metadata": {}
  },
  {
   "cell_type": "code",
   "execution_count": 21,
   "source": [
    "# Random in normal distribution\r\n",
    "const_normal = tf.random.normal(shape=(2, 5), mean = 0, stddev = 1)\r\n",
    "print(const_normal)"
   ],
   "outputs": [
    {
     "output_type": "stream",
     "name": "stdout",
     "text": [
      "tf.Tensor(\n",
      "[[-2.086812    1.7329038   0.9518616   0.93326235  0.12885731]\n",
      " [-0.2679554  -1.506706   -0.19973546  2.046717   -0.361225  ]], shape=(2, 5), dtype=float32)\n"
     ]
    }
   ],
   "metadata": {}
  },
  {
   "cell_type": "code",
   "execution_count": 24,
   "source": [
    "# Random in uniform distribution\r\n",
    "const_uniform = tf.random.uniform(shape=(2, 5), minval=0, maxval=1)\r\n",
    "print(const_uniform)\r\n",
    "print(tf.random.uniform(shape=(2, 5), minval=0, maxval=1, dtype=tf.int32))"
   ],
   "outputs": [
    {
     "output_type": "stream",
     "name": "stdout",
     "text": [
      "tf.Tensor(\n",
      "[[0.17188644 0.6385075  0.4857793  0.8206482  0.94610703]\n",
      " [0.29409754 0.89823794 0.39633775 0.57921636 0.14672494]], shape=(2, 5), dtype=float32)\n",
      "tf.Tensor(\n",
      "[[0 0 0 0 0]\n",
      " [0 0 0 0 0]], shape=(2, 5), dtype=int32)\n"
     ]
    }
   ],
   "metadata": {}
  },
  {
   "cell_type": "code",
   "execution_count": 29,
   "source": [
    "# Variable\r\n",
    "var1 = tf.Variable(10)\r\n",
    "print(var1)\r\n",
    "print(var1.numpy())\r\n",
    "print(tf.Variable(10, dtype = tf.float32))\r\n",
    "\r\n",
    "# Change variable value\r\n",
    "var1.assign(17)\r\n",
    "print(var1)"
   ],
   "outputs": [
    {
     "output_type": "stream",
     "name": "stdout",
     "text": [
      "<tf.Variable 'Variable:0' shape=() dtype=int32, numpy=10>\n",
      "10\n",
      "<tf.Variable 'Variable:0' shape=() dtype=float32, numpy=10.0>\n",
      "<tf.Variable 'Variable:0' shape=() dtype=int32, numpy=17>\n"
     ]
    }
   ],
   "metadata": {}
  },
  {
   "cell_type": "code",
   "execution_count": 30,
   "source": [
    "# Variable Reshape\r\n",
    "tensor = tf.Variable([[[12, 23], [34, 45]], [[56, 67], [78, 89]]])\r\n",
    "print(tensor)"
   ],
   "outputs": [
    {
     "output_type": "stream",
     "name": "stdout",
     "text": [
      "<tf.Variable 'Variable:0' shape=(2, 2, 2) dtype=int32, numpy=\n",
      "array([[[12, 23],\n",
      "        [34, 45]],\n",
      "\n",
      "       [[56, 67],\n",
      "        [78, 89]]])>\n"
     ]
    }
   ],
   "metadata": {}
  },
  {
   "cell_type": "code",
   "execution_count": 37,
   "source": [
    "reshape_val = tf.reshape(tensor, shape=(2, 4))\r\n",
    "print(reshape_val)"
   ],
   "outputs": [
    {
     "output_type": "stream",
     "name": "stdout",
     "text": [
      "tf.Tensor(\n",
      "[[12 23 34 45]\n",
      " [56 67 78 89]], shape=(2, 4), dtype=int32)\n"
     ]
    }
   ],
   "metadata": {}
  },
  {
   "cell_type": "code",
   "execution_count": 39,
   "source": [
    "# Rank : Rank of the tensor is the number of dimensions of the tensor.\r\n",
    "print(tf.rank(tensor))"
   ],
   "outputs": [
    {
     "output_type": "stream",
     "name": "stdout",
     "text": [
      "tf.Tensor(3, shape=(), dtype=int32)\n"
     ]
    }
   ],
   "metadata": {}
  },
  {
   "cell_type": "code",
   "execution_count": 43,
   "source": [
    "# get values in tensor\r\n",
    "print(tensor[1, 1, 1])"
   ],
   "outputs": [
    {
     "output_type": "stream",
     "name": "stdout",
     "text": [
      "tf.Tensor(89, shape=(), dtype=int32)\n"
     ]
    }
   ],
   "metadata": {}
  },
  {
   "cell_type": "code",
   "execution_count": 44,
   "source": [
    "# get all value in tensor\r\n",
    "print(tensor.numpy())"
   ],
   "outputs": [
    {
     "output_type": "stream",
     "name": "stdout",
     "text": [
      "[[[12 23]\n",
      "  [34 45]]\n",
      "\n",
      " [[56 67]\n",
      "  [78 89]]]\n"
     ]
    }
   ],
   "metadata": {}
  },
  {
   "cell_type": "code",
   "execution_count": 49,
   "source": [
    "# tensor mathmatical operation\r\n",
    "a = tf.random.normal(shape=(2, 2))\r\n",
    "b = tf.random.normal(shape=(2, 2))\r\n",
    "print(a)\r\n",
    "print(b)\r\n",
    "\r\n",
    "print(\"Additional\")\r\n",
    "c = a + b\r\n",
    "print(c)"
   ],
   "outputs": [
    {
     "output_type": "stream",
     "name": "stdout",
     "text": [
      "tf.Tensor(\n",
      "[[-0.38314125  2.0416367 ]\n",
      " [ 0.775032    0.20186351]], shape=(2, 2), dtype=float32)\n",
      "tf.Tensor(\n",
      "[[ 0.61707497 -0.94048125]\n",
      " [ 0.04178707  0.07810141]], shape=(2, 2), dtype=float32)\n",
      "Additional\n",
      "tf.Tensor(\n",
      "[[0.23393372 1.1011555 ]\n",
      " [0.8168191  0.27996492]], shape=(2, 2), dtype=float32)\n"
     ]
    }
   ],
   "metadata": {}
  },
  {
   "cell_type": "code",
   "execution_count": 52,
   "source": [
    "print(\"Square\")\r\n",
    "print(tf.square(c))\r\n",
    "\r\n",
    "print(\"Expointial\")\r\n",
    "print(tf.exp(c))\r\n",
    "\r\n",
    "print(\"Multiplication\")\r\n",
    "print(tf.matmul(a, b))"
   ],
   "outputs": [
    {
     "output_type": "stream",
     "name": "stdout",
     "text": [
      "Square\n",
      "tf.Tensor(\n",
      "[[0.05472498 1.2125435 ]\n",
      " [0.6671934  0.07838036]], shape=(2, 2), dtype=float32)\n",
      "Expointial\n",
      "tf.Tensor(\n",
      "[[1.2635608 3.0076394]\n",
      " [2.263289  1.3230834]], shape=(2, 2), dtype=float32)\n",
      "Multiplication\n",
      "tf.Tensor(\n",
      "[[-0.15111285  0.51979184]\n",
      " [ 0.4866881  -0.7131372 ]], shape=(2, 2), dtype=float32)\n"
     ]
    }
   ],
   "metadata": {}
  },
  {
   "cell_type": "code",
   "execution_count": 55,
   "source": [
    "# Broadcasting in tensor\r\n",
    "scalar = 5\r\n",
    "print(scalar * a)\r\n",
    "print(scalar + a)\r\n",
    "print(scalar - a)"
   ],
   "outputs": [
    {
     "output_type": "stream",
     "name": "stdout",
     "text": [
      "tf.Tensor(\n",
      "[[-1.9157063 10.208183 ]\n",
      " [ 3.87516    1.0093175]], shape=(2, 2), dtype=float32)\n",
      "tf.Tensor(\n",
      "[[4.616859  7.0416365]\n",
      " [5.775032  5.2018633]], shape=(2, 2), dtype=float32)\n",
      "tf.Tensor(\n",
      "[[5.383141  2.9583633]\n",
      " [4.224968  4.7981367]], shape=(2, 2), dtype=float32)\n"
     ]
    }
   ],
   "metadata": {}
  },
  {
   "cell_type": "code",
   "execution_count": 56,
   "source": [
    "# Matrix multiplication\r\n",
    "mat_u = tf.random.uniform(shape=(2, 2))\r\n",
    "mat_v = tf.random.uniform(shape=(2, 2))\r\n",
    "print(mat_u)\r\n",
    "print(mat_v)\r\n",
    "print(tf.matmul(mat_u, mat_v))"
   ],
   "outputs": [
    {
     "output_type": "stream",
     "name": "stdout",
     "text": [
      "tf.Tensor(\n",
      "[[0.09275496 0.73203385]\n",
      " [0.94318295 0.47257805]], shape=(2, 2), dtype=float32)\n",
      "tf.Tensor(\n",
      "[[0.464913   0.39748883]\n",
      " [0.37426996 0.8201927 ]], shape=(2, 2), dtype=float32)\n",
      "tf.Tensor(\n",
      "[[0.31710127 0.63727784]\n",
      " [0.6153698  0.76250976]], shape=(2, 2), dtype=float32)\n"
     ]
    }
   ],
   "metadata": {}
  },
  {
   "cell_type": "code",
   "execution_count": 57,
   "source": [
    "print(mat_u @ tf.transpose(mat_v))"
   ],
   "outputs": [
    {
     "output_type": "stream",
     "name": "stdout",
     "text": [
      "tf.Tensor(\n",
      "[[0.33409825 0.6351242 ]\n",
      " [0.62634254 0.7406101 ]], shape=(2, 2), dtype=float32)\n"
     ]
    }
   ],
   "metadata": {}
  },
  {
   "cell_type": "code",
   "execution_count": 58,
   "source": [
    "# Type cast tensor\r\n",
    "print(tf.cast(mat_u, dtype=tf.int64))"
   ],
   "outputs": [
    {
     "output_type": "stream",
     "name": "stdout",
     "text": [
      "tf.Tensor(\n",
      "[[0 0]\n",
      " [0 0]], shape=(2, 2), dtype=int64)\n"
     ]
    }
   ],
   "metadata": {}
  },
  {
   "cell_type": "code",
   "execution_count": 61,
   "source": [
    "# Ragged Tensor\r\n",
    "ragged_tensor = tf.ragged.constant([[1, 2, 3, 4, 5], [4, 5], [7, 8, 9]])\r\n",
    "print(ragged_tensor)\r\n",
    "print(ragged_tensor.shape)\r\n",
    "print(ragged_tensor[0: 1])"
   ],
   "outputs": [
    {
     "output_type": "stream",
     "name": "stdout",
     "text": [
      "<tf.RaggedTensor [[1, 2, 3, 4, 5], [4, 5], [7, 8, 9]]>\n",
      "(3, None)\n",
      "<tf.RaggedTensor [[1, 2, 3, 4, 5]]>\n"
     ]
    }
   ],
   "metadata": {}
  },
  {
   "cell_type": "code",
   "execution_count": 65,
   "source": [
    "# Squared difference of two tensors\r\n",
    "a = [1, 2, 3]\r\n",
    "b = [1, 1, 4]\r\n",
    "print(a)\r\n",
    "print(b)\r\n",
    "print(tf.math.squared_difference(a, b))"
   ],
   "outputs": [
    {
     "output_type": "stream",
     "name": "stdout",
     "text": [
      "[1, 2, 3]\n",
      "[1, 1, 4]\n",
      "tf.Tensor([0 1 1], shape=(3,), dtype=int32)\n"
     ]
    }
   ],
   "metadata": {}
  },
  {
   "cell_type": "code",
   "execution_count": 69,
   "source": [
    "# Calcualte the mean of a tensor\r\n",
    "a = tf.constant([[1, 2, 3], [4, 5, 6]], dtype=tf.float32)\r\n",
    "print(a)\r\n",
    "print(tf.reduce_mean(a))\r\n",
    "print(tf.reduce_mean(a, axis = 0))\r\n",
    "print(tf.reduce_mean(a, axis = 1))"
   ],
   "outputs": [
    {
     "output_type": "stream",
     "name": "stdout",
     "text": [
      "tf.Tensor(\n",
      "[[1. 2. 3.]\n",
      " [4. 5. 6.]], shape=(2, 3), dtype=float32)\n",
      "tf.Tensor(3.5, shape=(), dtype=float32)\n",
      "tf.Tensor([2.5 3.5 4.5], shape=(3,), dtype=float32)\n",
      "tf.Tensor([2. 5.], shape=(2,), dtype=float32)\n"
     ]
    }
   ],
   "metadata": {}
  },
  {
   "cell_type": "code",
   "execution_count": 70,
   "source": [
    "# check pointing and restore the matrix\r\n",
    "var1 = tf.Variable(2 * tf.ones((5, 5)))\r\n",
    "ckpt = tf.train.Checkpoint(var= var1)\r\n",
    "savepath = ckpt.save('./var/ckpt.ckpt')"
   ],
   "outputs": [],
   "metadata": {}
  },
  {
   "cell_type": "code",
   "execution_count": 72,
   "source": [
    "# Assign values to var1\r\n",
    "var1.assign(tf.zeros((5,5)))\r\n",
    "print(var1)"
   ],
   "outputs": [
    {
     "output_type": "stream",
     "name": "stdout",
     "text": [
      "<tf.Variable 'Variable:0' shape=(5, 5) dtype=float32, numpy=\n",
      "array([[0., 0., 0., 0., 0.],\n",
      "       [0., 0., 0., 0., 0.],\n",
      "       [0., 0., 0., 0., 0.],\n",
      "       [0., 0., 0., 0., 0.],\n",
      "       [0., 0., 0., 0., 0.]], dtype=float32)>\n"
     ]
    }
   ],
   "metadata": {}
  },
  {
   "cell_type": "code",
   "execution_count": 74,
   "source": [
    "# Restore var1 values\r\n",
    "ckpt.restore(savepath)\r\n",
    "print(var1)"
   ],
   "outputs": [
    {
     "output_type": "stream",
     "name": "stdout",
     "text": [
      "<tf.Variable 'Variable:0' shape=(5, 5) dtype=float32, numpy=\n",
      "array([[2., 2., 2., 2., 2.],\n",
      "       [2., 2., 2., 2., 2.],\n",
      "       [2., 2., 2., 2., 2.],\n",
      "       [2., 2., 2., 2., 2.],\n",
      "       [2., 2., 2., 2., 2.]], dtype=float32)>\n"
     ]
    }
   ],
   "metadata": {}
  },
  {
   "cell_type": "code",
   "execution_count": 76,
   "source": [
    "# tensoflow function\r\n",
    "@tf.function\r\n",
    "def fun(x, y):\r\n",
    "    return tf.reduce_mean(input_tensor=tf.multiply(x ** 3, 6) + y ** 3)\r\n",
    "\r\n",
    "x = tf.constant([1, -3])\r\n",
    "y = tf.constant([2, -4])\r\n",
    "print(fun(x, y))\r\n",
    "print(fun(x, y).numpy())"
   ],
   "outputs": [
    {
     "output_type": "stream",
     "name": "stdout",
     "text": [
      "tf.Tensor(-106, shape=(), dtype=int32)\n",
      "-106\n"
     ]
    }
   ],
   "metadata": {}
  },
  {
   "cell_type": "code",
   "execution_count": 78,
   "source": [
    "# Derivation of tensor\r\n",
    "x = tf.Variable(tf.random.normal(shape=(2, 2)))\r\n",
    "y = tf.Variable(tf.random.normal(shape=(2, 2)))\r\n",
    "\r\n",
    "with tf.GradientTape() as tape:\r\n",
    "    tape.watch(x)\r\n",
    "    tape.watch(y)\r\n",
    "    f = tf.sqrt(tf.square(x) + tf.square(y))\r\n",
    "    #z = tape.gradient(fun(x, y), [x, y])\r\n",
    "    z = tape.gradient(f, [x, y])\r\n",
    "    print(z)\r\n"
   ],
   "outputs": [
    {
     "output_type": "stream",
     "name": "stdout",
     "text": [
      "[<tf.Tensor: shape=(2, 2), dtype=float32, numpy=\n",
      "array([[-0.15345895, -0.94136596],\n",
      "       [-0.6557814 , -0.998972  ]], dtype=float32)>, <tf.Tensor: shape=(2, 2), dtype=float32, numpy=\n",
      "array([[ 0.98815507, -0.33738738],\n",
      "       [ 0.7549509 ,  0.04533061]], dtype=float32)>]\n"
     ]
    }
   ],
   "metadata": {}
  },
  {
   "cell_type": "code",
   "execution_count": 82,
   "source": [
    "# Simple Linear Regression example\r\n",
    "NUM_RECORDS = 1000\r\n",
    "WEIGHT = 3.0\r\n",
    "BIAS = 2.0\r\n",
    "\r\n",
    "x = tf.random.normal(shape=[NUM_RECORDS])\r\n",
    "noise = tf.random.normal(shape=[NUM_RECORDS])\r\n",
    "y = x * WEIGHT + BIAS + noise\r\n"
   ],
   "outputs": [],
   "metadata": {}
  },
  {
   "cell_type": "code",
   "execution_count": 83,
   "source": [
    "import matplotlib.pyplot as plt\r\n",
    "plt.scatter(x,y)\r\n",
    "plt.show()"
   ],
   "outputs": [
    {
     "output_type": "display_data",
     "data": {
      "text/plain": [
       "<Figure size 432x288 with 1 Axes>"
      ],
      "image/png": "[encoded data removed]"
     },
     "metadata": {
      "needs_background": "light"
     }
    }
   ],
   "metadata": {}
  },
  {
   "cell_type": "code",
   "execution_count": 87,
   "source": [
    "class LinerModel(tf.Module):\r\n",
    "    def __init__(self, **kwargs):\r\n",
    "        super().__init__(**kwargs)\r\n",
    "        self.w = tf.Variable(2.0)\r\n",
    "        self.b = tf.Variable(0.0)\r\n",
    "\r\n",
    "    def __call__(self, x):\r\n",
    "        return self.w * x + self.b\r\n",
    "\r\n",
    "model = LinerModel()\r\n",
    "print(model.variables)\r\n",
    "print(model(5))"
   ],
   "outputs": [
    {
     "output_type": "stream",
     "name": "stdout",
     "text": [
      "(<tf.Variable 'Variable:0' shape=() dtype=float32, numpy=0.0>, <tf.Variable 'Variable:0' shape=() dtype=float32, numpy=2.0>)\n",
      "tf.Tensor(10.0, shape=(), dtype=float32)\n"
     ]
    }
   ],
   "metadata": {}
  },
  {
   "cell_type": "code",
   "execution_count": 91,
   "source": [
    "# Define Loss function\r\n",
    "def MSE_Loss(predicted, target):\r\n",
    "    error = target - predicted\r\n",
    "    square_error = tf.square(error)\r\n",
    "    mse = tf.reduce_mean(square_error)\r\n",
    "    return mse\r\n"
   ],
   "outputs": [],
   "metadata": {}
  },
  {
   "cell_type": "code",
   "execution_count": 89,
   "source": [
    "plt.scatter(x, y, c='b')\r\n",
    "plt.plot(x, model(x), c='r')\r\n",
    "plt.show()"
   ],
   "outputs": [
    {
     "output_type": "display_data",
     "data": {
      "text/plain": [
       "<Figure size 432x288 with 1 Axes>"
      ],
      "image/png": "[encoded data removed]"
     },
     "metadata": {
      "needs_background": "light"
     }
    }
   ],
   "metadata": {}
  },
  {
   "cell_type": "code",
   "execution_count": 93,
   "source": [
    "current_loss = MSE_Loss(y, model(x))\r\n",
    "print(current_loss.numpy())"
   ],
   "outputs": [
    {
     "output_type": "stream",
     "name": "stdout",
     "text": [
      "5.967762\n"
     ]
    }
   ],
   "metadata": {}
  },
  {
   "cell_type": "code",
   "execution_count": 98,
   "source": [
    "def training(model, x, y, learning_rate):\r\n",
    "    with tf.GradientTape() as tape:\r\n",
    "        current_loss = MSE_Loss(y, model(x))\r\n",
    "\r\n",
    "    dc_dw, dc_db = tape.gradient(current_loss, [model.w, model.b])\r\n",
    "    #print(dc_dw, dc_db)\r\n",
    "    model.w.assign_sub(learning_rate * dc_dw)\r\n",
    "    model.b.assign_sub(learning_rate * dc_db)\r\n",
    "    \r\n"
   ],
   "outputs": [],
   "metadata": {}
  },
  {
   "cell_type": "code",
   "execution_count": 106,
   "source": [
    "from tqdm import tqdm\r\n",
    "model = LinerModel()\r\n",
    "w = model.w.numpy()\r\n",
    "b = model.b.numpy()\r\n",
    "Learning_rate = 0.1\r\n",
    "epocs = 100\r\n",
    "inital_loss = MSE_Loss(y, model(x))\r\n",
    "print(f\"Initial Loss : {inital_loss.numpy()}, Weight: {w}, Bias : {b}\")\r\n",
    "for i in tqdm(range(epocs)):\r\n",
    "    training(model, x, y, Learning_rate)\r\n",
    "    loss = MSE_Loss(y, model(x))\r\n",
    "    print(f\"Epoc {i+1} Loss : {loss.numpy()}, Weight: {model.w.numpy()}, Bias : {model.b.numpy()}\")\r\n",
    "\r\n",
    "plt.scatter(x, y, c='b')\r\n",
    "plt.plot(x, model(x), c='r')\r\n",
    "plt.show()"
   ],
   "outputs": [
    {
     "output_type": "stream",
     "name": "stdout",
     "text": [
      "Initial Loss : 5.967761993408203, Weight: 2.0, Bias : 0.0\n"
     ]
    },
    {
     "output_type": "stream",
     "name": "stderr",
     "text": [
      " 25%|██▌       | 25/100 [00:00<00:00, 245.75it/s]"
     ]
    },
    {
     "output_type": "stream",
     "name": "stdout",
     "text": [
      "Epoc 1 Loss : 4.211113452911377, Weight: 2.1781957149505615, Bias : 0.40350142121315\n",
      "Epoc 2 Loss : 3.0707006454467773, Weight: 2.3237550258636475, Bias : 0.7277249097824097\n",
      "Epoc 3 Loss : 2.3302388191223145, Weight: 2.442612648010254, Bias : 0.9882655143737793\n",
      "Epoc 4 Loss : 1.8493938446044922, Weight: 2.53963303565979, Bias : 1.1976467370986938\n",
      "Epoc 5 Loss : 1.537097692489624, Weight: 2.6188018321990967, Bias : 1.3659261465072632\n",
      "Epoc 6 Loss : 1.3342429399490356, Weight: 2.6833832263946533, Bias : 1.5011816024780273\n",
      "Epoc 7 Loss : 1.202459692955017, Weight: 2.736049175262451, Bias : 1.6099014282226562\n",
      "Epoc 8 Loss : 1.1168371438980103, Weight: 2.7789852619171143, Bias : 1.6972975730895996\n",
      "Epoc 9 Loss : 1.0611993074417114, Weight: 2.813979148864746, Bias : 1.7675572633743286\n",
      "Epoc 10 Loss : 1.0250416994094849, Weight: 2.8424923419952393, Bias : 1.8240443468093872\n",
      "Epoc 11 Loss : 1.0015408992767334, Weight: 2.8657188415527344, Bias : 1.8694615364074707\n",
      "Epoc 12 Loss : 0.9862650036811829, Weight: 2.884634256362915, Bias : 1.9059807062149048\n",
      "Epoc 13 Loss : 0.976334273815155, Weight: 2.9000349044799805, Bias : 1.935347080230713\n",
      "Epoc 14 Loss : 0.9698778390884399, Weight: 2.9125709533691406, Bias : 1.9589630365371704\n",
      "Epoc 15 Loss : 0.9656797051429749, Weight: 2.9227731227874756, Bias : 1.977955937385559\n",
      "Epoc 16 Loss : 0.962949812412262, Weight: 2.9310739040374756, Bias : 1.9932316541671753\n",
      "Epoc 17 Loss : 0.9611744284629822, Weight: 2.93782639503479, Bias : 2.0055184364318848\n",
      "Epoc 18 Loss : 0.9600197076797485, Weight: 2.9433181285858154, Bias : 2.015401840209961\n",
      "Epoc 19 Loss : 0.9592686295509338, Weight: 2.9477837085723877, Bias : 2.0233523845672607\n",
      "Epoc 20 Loss : 0.95878005027771, Weight: 2.951414108276367, Bias : 2.0297484397888184\n",
      "Epoc 21 Loss : 0.9584622383117676, Weight: 2.9543650150299072, Bias : 2.0348942279815674\n",
      "Epoc 22 Loss : 0.9582553505897522, Weight: 2.95676326751709, Bias : 2.039034366607666\n",
      "Epoc 23 Loss : 0.9581208229064941, Weight: 2.958711862564087, Bias : 2.042365789413452\n",
      "Epoc 24 Loss : 0.9580332636833191, Weight: 2.9602949619293213, Bias : 2.045046329498291\n",
      "Epoc 25 Loss : 0.9579763412475586, Weight: 2.961580991744995, Bias : 2.047203540802002\n",
      "Epoc 26 Loss : 0.9579392075538635, Weight: 2.962625503540039, Bias : 2.0489394664764404\n",
      "Epoc 27 Loss : 0.9579151272773743, Weight: 2.9634735584259033, Bias : 2.0503365993499756\n",
      "Epoc 28 Loss : 0.9578993916511536, Weight: 2.9641621112823486, Bias : 2.0514609813690186\n",
      "Epoc 29 Loss : 0.9578891396522522, Weight: 2.964721202850342, Bias : 2.052366018295288\n",
      "Epoc 30 Loss : 0.9578824639320374, Weight: 2.965174913406372, Bias : 2.0530946254730225\n",
      "Epoc 31 Loss : 0.9578781723976135, Weight: 2.965543270111084, Bias : 2.0536811351776123\n",
      "Epoc 32 Loss : 0.9578753709793091, Weight: 2.9658422470092773, Bias : 2.0541532039642334\n",
      "Epoc 33 Loss : 0.957873523235321, Weight: 2.9660847187042236, Bias : 2.0545332431793213\n",
      "Epoc 34 Loss : 0.9578723907470703, Weight: 2.9662814140319824, Bias : 2.0548391342163086\n",
      "Epoc 35 Loss : 0.9578714966773987, Weight: 2.9664409160614014, Bias : 2.0550854206085205\n",
      "Epoc 36 Loss : 0.9578709602355957, Weight: 2.9665703773498535, Bias : 2.055283784866333\n",
      "Epoc 37 Loss : 0.9578706622123718, Weight: 2.966675281524658, Bias : 2.055443525314331\n",
      "Epoc 38 Loss : 0.9578704833984375, Weight: 2.9667603969573975, Bias : 2.055572032928467\n",
      "Epoc 39 Loss : 0.957870364189148, Weight: 2.966829538345337, Bias : 2.055675506591797\n",
      "Epoc 40 Loss : 0.9578702449798584, Weight: 2.966885566711426, Bias : 2.0557589530944824\n",
      "Epoc 41 Loss : 0.9578702449798584, Weight: 2.966930866241455, Bias : 2.055826187133789\n",
      "Epoc 42 Loss : 0.9578701257705688, Weight: 2.9669675827026367, Bias : 2.055880308151245\n",
      "Epoc 43 Loss : 0.9578702449798584, Weight: 2.9669973850250244, Bias : 2.0559239387512207\n",
      "Epoc 44 Loss : 0.9578701257705688, Weight: 2.9670214653015137, Bias : 2.0559589862823486\n",
      "Epoc 45 Loss : 0.9578701257705688, Weight: 2.967041015625, Bias : 2.0559873580932617\n",
      "Epoc 46 Loss : 0.9578701257705688, Weight: 2.9670569896698, Bias : 2.0560100078582764\n",
      "Epoc 47 Loss : 0.9578701257705688, Weight: 2.9670698642730713, Bias : 2.056028366088867\n",
      "Epoc 48 Loss : 0.9578701257705688, Weight: 2.9670803546905518, Bias : 2.0560431480407715\n"
     ]
    },
    {
     "output_type": "stream",
     "name": "stderr",
     "text": [
      " 56%|█████▌    | 56/100 [00:00<00:00, 275.24it/s]"
     ]
    },
    {
     "output_type": "stream",
     "name": "stdout",
     "text": [
      "Epoc 49 Loss : 0.9578701853752136, Weight: 2.9670886993408203, Bias : 2.0560550689697266\n",
      "Epoc 50 Loss : 0.9578701257705688, Weight: 2.9670956134796143, Bias : 2.0560646057128906\n",
      "Epoc 51 Loss : 0.9578700661659241, Weight: 2.9671010971069336, Bias : 2.056072473526001\n",
      "Epoc 52 Loss : 0.9578701257705688, Weight: 2.9671056270599365, Bias : 2.0560786724090576\n",
      "Epoc 53 Loss : 0.9578701257705688, Weight: 2.967109203338623, Bias : 2.0560836791992188\n",
      "Epoc 54 Loss : 0.9578701257705688, Weight: 2.9671120643615723, Bias : 2.0560877323150635\n",
      "Epoc 55 Loss : 0.9578701257705688, Weight: 2.9671144485473633, Bias : 2.056091070175171\n",
      "Epoc 56 Loss : 0.9578701257705688, Weight: 2.967116355895996, Bias : 2.056093692779541\n",
      "Epoc 57 Loss : 0.9578700661659241, Weight: 2.96711802482605, Bias : 2.056095838546753\n",
      "Epoc 58 Loss : 0.9578701257705688, Weight: 2.9671192169189453, Bias : 2.0560975074768066\n",
      "Epoc 59 Loss : 0.9578700661659241, Weight: 2.9671201705932617, Bias : 2.0560989379882812\n",
      "Epoc 60 Loss : 0.9578701257705688, Weight: 2.967121124267578, Bias : 2.0561001300811768\n",
      "Epoc 61 Loss : 0.9578700661659241, Weight: 2.9671218395233154, Bias : 2.056101083755493\n",
      "Epoc 62 Loss : 0.9578700065612793, Weight: 2.9671223163604736, Bias : 2.0561017990112305\n",
      "Epoc 63 Loss : 0.9578701257705688, Weight: 2.967122793197632, Bias : 2.0561022758483887\n",
      "Epoc 64 Loss : 0.9578701257705688, Weight: 2.967123031616211, Bias : 2.056102752685547\n",
      "Epoc 65 Loss : 0.9578700065612793, Weight: 2.96712327003479, Bias : 2.056102991104126\n",
      "Epoc 66 Loss : 0.9578701257705688, Weight: 2.967123508453369, Bias : 2.056103229522705\n",
      "Epoc 67 Loss : 0.9578700661659241, Weight: 2.9671237468719482, Bias : 2.056103467941284\n",
      "Epoc 68 Loss : 0.9578701257705688, Weight: 2.9671239852905273, Bias : 2.0561037063598633\n",
      "Epoc 69 Loss : 0.9578701257705688, Weight: 2.9671242237091064, Bias : 2.0561039447784424\n",
      "Epoc 70 Loss : 0.9578701257705688, Weight: 2.9671242237091064, Bias : 2.0561039447784424\n",
      "Epoc 71 Loss : 0.9578701257705688, Weight: 2.9671242237091064, Bias : 2.0561039447784424\n",
      "Epoc 72 Loss : 0.9578701257705688, Weight: 2.9671242237091064, Bias : 2.0561039447784424\n",
      "Epoc 73 Loss : 0.9578701257705688, Weight: 2.9671242237091064, Bias : 2.0561039447784424\n",
      "Epoc 74 Loss : 0.9578701257705688, Weight: 2.9671242237091064, Bias : 2.0561039447784424\n",
      "Epoc 75 Loss : 0.9578701257705688, Weight: 2.9671242237091064, Bias : 2.0561039447784424\n",
      "Epoc 76 Loss : 0.9578701257705688, Weight: 2.9671242237091064, Bias : 2.0561039447784424\n",
      "Epoc 77 Loss : 0.9578701257705688, Weight: 2.9671242237091064, Bias : 2.0561039447784424\n",
      "Epoc 78 Loss : 0.9578701257705688, Weight: 2.9671242237091064, Bias : 2.0561039447784424\n",
      "Epoc 79 Loss : 0.9578701257705688, Weight: 2.9671242237091064, Bias : 2.0561039447784424\n",
      "Epoc 80 Loss : 0.9578701257705688, Weight: 2.9671242237091064, Bias : 2.0561039447784424\n",
      "Epoc 81 Loss : 0.9578701257705688, Weight: 2.9671242237091064, Bias : 2.0561039447784424\n",
      "Epoc 82 Loss : 0.9578701257705688, Weight: 2.9671242237091064, Bias : 2.0561039447784424\n",
      "Epoc 83 Loss : 0.9578701257705688, Weight: 2.9671242237091064, Bias : 2.0561039447784424\n",
      "Epoc 84 Loss : 0.9578701257705688, Weight: 2.9671242237091064, Bias : 2.0561039447784424"
     ]
    },
    {
     "output_type": "stream",
     "name": "stderr",
     "text": [
      "100%|██████████| 100/100 [00:00<00:00, 240.59it/s]"
     ]
    },
    {
     "output_type": "stream",
     "name": "stdout",
     "text": [
      "\n",
      "Epoc 85 Loss : 0.9578701257705688, Weight: 2.9671242237091064, Bias : 2.0561039447784424\n",
      "Epoc 86 Loss : 0.9578701257705688, Weight: 2.9671242237091064, Bias : 2.0561039447784424\n",
      "Epoc 87 Loss : 0.9578701257705688, Weight: 2.9671242237091064, Bias : 2.0561039447784424\n",
      "Epoc 88 Loss : 0.9578701257705688, Weight: 2.9671242237091064, Bias : 2.0561039447784424\n",
      "Epoc 89 Loss : 0.9578701257705688, Weight: 2.9671242237091064, Bias : 2.0561039447784424\n",
      "Epoc 90 Loss : 0.9578701257705688, Weight: 2.9671242237091064, Bias : 2.0561039447784424\n",
      "Epoc 91 Loss : 0.9578701257705688, Weight: 2.9671242237091064, Bias : 2.0561039447784424\n",
      "Epoc 92 Loss : 0.9578701257705688, Weight: 2.9671242237091064, Bias : 2.0561039447784424\n",
      "Epoc 93 Loss : 0.9578701257705688, Weight: 2.9671242237091064, Bias : 2.0561039447784424\n",
      "Epoc 94 Loss : 0.9578701257705688, Weight: 2.9671242237091064, Bias : 2.0561039447784424\n",
      "Epoc 95 Loss : 0.9578701257705688, Weight: 2.9671242237091064, Bias : 2.0561039447784424\n",
      "Epoc 96 Loss : 0.9578701257705688, Weight: 2.9671242237091064, Bias : 2.0561039447784424\n",
      "Epoc 97 Loss : 0.9578701257705688, Weight: 2.9671242237091064, Bias : 2.0561039447784424\n",
      "Epoc 98 Loss : 0.9578701257705688, Weight: 2.9671242237091064, Bias : 2.0561039447784424\n",
      "Epoc 99 Loss : 0.9578701257705688, Weight: 2.9671242237091064, Bias : 2.0561039447784424\n",
      "Epoc 100 Loss : 0.9578701257705688, Weight: 2.9671242237091064, Bias : 2.0561039447784424\n"
     ]
    },
    {
     "output_type": "stream",
     "name": "stderr",
     "text": [
      "\n"
     ]
    },
    {
     "output_type": "display_data",
     "data": {
      "text/plain": [
       "<Figure size 432x288 with 1 Axes>"
      ],
      "image/png": "[encoded data removed]"
     },
     "metadata": {
      "needs_background": "light"
     }
    }
   ],
   "metadata": {}
  },
  {
   "cell_type": "code",
   "execution_count": null,
   "source": [],
   "outputs": [],
   "metadata": {}
  }
 ],
 "metadata": {
  "orig_nbformat": 4,
  "language_info": {
   "name": "python",
   "version": "3.8.2",
   "mimetype": "text/x-python",
   "codemirror_mode": {
    "name": "ipython",
    "version": 3
   },
   "pygments_lexer": "ipython3",
   "nbconvert_exporter": "python",
   "file_extension": ".py"
  },
  "kernelspec": {
   "name": "python3",
   "display_name": "Python 3.8.2 64-bit"
  },
  "interpreter": {
   "hash": "05afa5c9a07b3fd48c7e6ef8d1af746238002bacb79a89054dc968c01b1f64ac"
  }
 },
 "nbformat": 4,
 "nbformat_minor": 2
}