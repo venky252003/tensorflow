{
 "cells": [
  {
   "cell_type": "code",
   "execution_count": 8,
   "source": [
    "import pandas as pd\r\n",
    "import matplotlib.pyplot as plt\r\n",
    "import numpy as np\r\n",
    "import tensorflow as tf\r\n",
    "from tensorflow.keras.models import Sequential\r\n",
    "from tensorflow.keras.layers import Dense, LSTM, Dropout\r\n",
    "from tensorflow.keras.callbacks import TensorBoard\r\n",
    "from sklearn.preprocessing import MinMaxScaler\r\n",
    "from sklearn.metrics import mean_squared_error"
   ],
   "outputs": [],
   "metadata": {}
  },
  {
   "cell_type": "code",
   "execution_count": 12,
   "source": [
    "# fix random seed for reproducibility\r\n",
    "np.random.seed(7)\r\n",
    "# load the dataset\r\n",
    "data = pd.read_csv('datasets/airline-passengers.csv', usecols=[1], engine='python')\r\n",
    "dataset = data.values\r\n",
    "dataset = dataset.astype('float32')\r\n",
    "print(dataset[0:5])"
   ],
   "outputs": [
    {
     "output_type": "stream",
     "name": "stdout",
     "text": [
      "[[112.]\n",
      " [118.]\n",
      " [132.]\n",
      " [129.]\n",
      " [121.]]\n"
     ]
    }
   ],
   "metadata": {}
  },
  {
   "cell_type": "code",
   "execution_count": 13,
   "source": [
    "plt.plot(data)\r\n",
    "plt.show()"
   ],
   "outputs": [
    {
     "output_type": "display_data",
     "data": {
      "text/plain": [
       "<Figure size 432x288 with 1 Axes>"
      ],
      "image/png": "[encoded data removed]"
     },
     "metadata": {
      "needs_background": "light"
     }
    }
   ],
   "metadata": {}
  },
  {
   "cell_type": "code",
   "execution_count": 9,
   "source": [
    "# convert an array of values into a dataset matrix\r\n",
    "def create_dataset(dataset, look_back=1):\r\n",
    "\tdataX, dataY = [], []\r\n",
    "\tfor i in range(len(dataset)-look_back-1):\r\n",
    "\t\ta = dataset[i:(i+look_back), 0]\r\n",
    "\t\tdataX.append(a)\r\n",
    "\t\tdataY.append(dataset[i + look_back, 0])\r\n",
    "\treturn np.array(dataX), np.array(dataY)"
   ],
   "outputs": [],
   "metadata": {}
  },
  {
   "cell_type": "code",
   "execution_count": 14,
   "source": [
    "# normalize the dataset\r\n",
    "scaler = MinMaxScaler(feature_range=(0, 1))\r\n",
    "dataset = scaler.fit_transform(dataset)"
   ],
   "outputs": [],
   "metadata": {}
  },
  {
   "cell_type": "code",
   "execution_count": 15,
   "source": [
    "# split into train and test sets\r\n",
    "train_size = int(len(dataset) * 0.67)\r\n",
    "test_size = len(dataset) - train_size\r\n",
    "train, test = dataset[0:train_size,:], dataset[train_size:len(dataset),:]"
   ],
   "outputs": [],
   "metadata": {}
  },
  {
   "cell_type": "code",
   "execution_count": 16,
   "source": [
    "# reshape into X=t and Y=t+1\r\n",
    "look_back = 1\r\n",
    "trainX, trainY = create_dataset(train, look_back)\r\n",
    "testX, testY = create_dataset(test, look_back)"
   ],
   "outputs": [],
   "metadata": {}
  },
  {
   "cell_type": "code",
   "execution_count": 18,
   "source": [
    "# reshape input to be [samples, time steps, features]\r\n",
    "trainX = np.reshape(trainX, (trainX.shape[0], 1, trainX.shape[1]))\r\n",
    "testX = np.reshape(testX, (testX.shape[0], 1, testX.shape[1]))"
   ],
   "outputs": [],
   "metadata": {}
  },
  {
   "cell_type": "code",
   "execution_count": 22,
   "source": [
    "print(trainX.shape, trainY.shape)"
   ],
   "outputs": [
    {
     "output_type": "stream",
     "name": "stdout",
     "text": [
      "(94, 1, 1) (94,)\n"
     ]
    }
   ],
   "metadata": {}
  },
  {
   "cell_type": "code",
   "execution_count": 24,
   "source": [
    "# create and fit the LSTM network\r\n",
    "model = Sequential()\r\n",
    "model.add(LSTM(4, input_shape=(1, look_back)))\r\n",
    "model.add(Dense(1))\r\n",
    "model.compile(loss='mean_squared_error', optimizer='adam', metrics=['accuracy'])\r\n",
    "model.fit(trainX, trainY, epochs=100, batch_size=1, verbose=2)"
   ],
   "outputs": [
    {
     "output_type": "stream",
     "name": "stdout",
     "text": [
      "Epoch 1/100\n",
      "94/94 - 0s - loss: 0.0485 - accuracy: 0.0106\n",
      "Epoch 2/100\n",
      "94/94 - 0s - loss: 0.0254 - accuracy: 0.0106\n",
      "Epoch 3/100\n",
      "94/94 - 0s - loss: 0.0176 - accuracy: 0.0106\n",
      "Epoch 4/100\n",
      "94/94 - 0s - loss: 0.0153 - accuracy: 0.0106\n",
      "Epoch 5/100\n",
      "94/94 - 0s - loss: 0.0144 - accuracy: 0.0106\n",
      "Epoch 6/100\n",
      "94/94 - 0s - loss: 0.0133 - accuracy: 0.0106\n",
      "Epoch 7/100\n",
      "94/94 - 0s - loss: 0.0121 - accuracy: 0.0106\n",
      "Epoch 8/100\n",
      "94/94 - 0s - loss: 0.0110 - accuracy: 0.0106\n",
      "Epoch 9/100\n",
      "94/94 - 0s - loss: 0.0099 - accuracy: 0.0106\n",
      "Epoch 10/100\n",
      "94/94 - 0s - loss: 0.0088 - accuracy: 0.0106\n",
      "Epoch 11/100\n",
      "94/94 - 0s - loss: 0.0079 - accuracy: 0.0106\n",
      "Epoch 12/100\n",
      "94/94 - 0s - loss: 0.0067 - accuracy: 0.0106\n",
      "Epoch 13/100\n",
      "94/94 - 0s - loss: 0.0058 - accuracy: 0.0106\n",
      "Epoch 14/100\n",
      "94/94 - 0s - loss: 0.0050 - accuracy: 0.0106\n",
      "Epoch 15/100\n",
      "94/94 - 0s - loss: 0.0042 - accuracy: 0.0106\n",
      "Epoch 16/100\n",
      "94/94 - 0s - loss: 0.0036 - accuracy: 0.0106\n",
      "Epoch 17/100\n",
      "94/94 - 0s - loss: 0.0031 - accuracy: 0.0106\n",
      "Epoch 18/100\n",
      "94/94 - 0s - loss: 0.0028 - accuracy: 0.0106\n",
      "Epoch 19/100\n",
      "94/94 - 0s - loss: 0.0025 - accuracy: 0.0106\n",
      "Epoch 20/100\n",
      "94/94 - 0s - loss: 0.0024 - accuracy: 0.0106\n",
      "Epoch 21/100\n",
      "94/94 - 0s - loss: 0.0022 - accuracy: 0.0106\n",
      "Epoch 22/100\n",
      "94/94 - 0s - loss: 0.0022 - accuracy: 0.0106\n",
      "Epoch 23/100\n",
      "94/94 - 0s - loss: 0.0021 - accuracy: 0.0106\n",
      "Epoch 24/100\n",
      "94/94 - 0s - loss: 0.0021 - accuracy: 0.0106\n",
      "Epoch 25/100\n",
      "94/94 - 0s - loss: 0.0021 - accuracy: 0.0106\n",
      "Epoch 26/100\n",
      "94/94 - 0s - loss: 0.0021 - accuracy: 0.0106\n",
      "Epoch 27/100\n",
      "94/94 - 0s - loss: 0.0020 - accuracy: 0.0106\n",
      "Epoch 28/100\n",
      "94/94 - 0s - loss: 0.0021 - accuracy: 0.0106\n",
      "Epoch 29/100\n",
      "94/94 - 0s - loss: 0.0020 - accuracy: 0.0106\n",
      "Epoch 30/100\n",
      "94/94 - 0s - loss: 0.0021 - accuracy: 0.0106\n",
      "Epoch 31/100\n",
      "94/94 - 0s - loss: 0.0020 - accuracy: 0.0106\n",
      "Epoch 32/100\n",
      "94/94 - 0s - loss: 0.0021 - accuracy: 0.0106\n",
      "Epoch 33/100\n",
      "94/94 - 0s - loss: 0.0021 - accuracy: 0.0106\n",
      "Epoch 34/100\n",
      "94/94 - 0s - loss: 0.0021 - accuracy: 0.0106\n",
      "Epoch 35/100\n",
      "94/94 - 0s - loss: 0.0021 - accuracy: 0.0106\n",
      "Epoch 36/100\n",
      "94/94 - 0s - loss: 0.0020 - accuracy: 0.0106\n",
      "Epoch 37/100\n",
      "94/94 - 0s - loss: 0.0021 - accuracy: 0.0106\n",
      "Epoch 38/100\n",
      "94/94 - 0s - loss: 0.0021 - accuracy: 0.0106\n",
      "Epoch 39/100\n",
      "94/94 - 0s - loss: 0.0021 - accuracy: 0.0106\n",
      "Epoch 40/100\n",
      "94/94 - 0s - loss: 0.0021 - accuracy: 0.0106\n",
      "Epoch 41/100\n",
      "94/94 - 0s - loss: 0.0020 - accuracy: 0.0106\n",
      "Epoch 42/100\n",
      "94/94 - 0s - loss: 0.0020 - accuracy: 0.0106\n",
      "Epoch 43/100\n",
      "94/94 - 0s - loss: 0.0021 - accuracy: 0.0106\n",
      "Epoch 44/100\n",
      "94/94 - 0s - loss: 0.0020 - accuracy: 0.0106\n",
      "Epoch 45/100\n",
      "94/94 - 0s - loss: 0.0021 - accuracy: 0.0106\n",
      "Epoch 46/100\n",
      "94/94 - 0s - loss: 0.0020 - accuracy: 0.0106\n",
      "Epoch 47/100\n",
      "94/94 - 0s - loss: 0.0020 - accuracy: 0.0106\n",
      "Epoch 48/100\n",
      "94/94 - 0s - loss: 0.0021 - accuracy: 0.0106\n",
      "Epoch 49/100\n",
      "94/94 - 0s - loss: 0.0020 - accuracy: 0.0106\n",
      "Epoch 50/100\n",
      "94/94 - 0s - loss: 0.0021 - accuracy: 0.0106\n",
      "Epoch 51/100\n",
      "94/94 - 0s - loss: 0.0021 - accuracy: 0.0106\n",
      "Epoch 52/100\n",
      "94/94 - 0s - loss: 0.0020 - accuracy: 0.0106\n",
      "Epoch 53/100\n",
      "94/94 - 0s - loss: 0.0020 - accuracy: 0.0106\n",
      "Epoch 54/100\n",
      "94/94 - 0s - loss: 0.0021 - accuracy: 0.0106\n",
      "Epoch 55/100\n",
      "94/94 - 0s - loss: 0.0020 - accuracy: 0.0106\n",
      "Epoch 56/100\n",
      "94/94 - 0s - loss: 0.0020 - accuracy: 0.0106\n",
      "Epoch 57/100\n",
      "94/94 - 0s - loss: 0.0020 - accuracy: 0.0106\n",
      "Epoch 58/100\n",
      "94/94 - 0s - loss: 0.0021 - accuracy: 0.0106\n",
      "Epoch 59/100\n",
      "94/94 - 0s - loss: 0.0020 - accuracy: 0.0106\n",
      "Epoch 60/100\n",
      "94/94 - 0s - loss: 0.0020 - accuracy: 0.0106\n",
      "Epoch 61/100\n",
      "94/94 - 0s - loss: 0.0020 - accuracy: 0.0106\n",
      "Epoch 62/100\n",
      "94/94 - 0s - loss: 0.0020 - accuracy: 0.0106\n",
      "Epoch 63/100\n",
      "94/94 - 0s - loss: 0.0020 - accuracy: 0.0106\n",
      "Epoch 64/100\n",
      "94/94 - 0s - loss: 0.0021 - accuracy: 0.0106\n",
      "Epoch 65/100\n",
      "94/94 - 0s - loss: 0.0020 - accuracy: 0.0106\n",
      "Epoch 66/100\n",
      "94/94 - 0s - loss: 0.0020 - accuracy: 0.0106\n",
      "Epoch 67/100\n",
      "94/94 - 0s - loss: 0.0021 - accuracy: 0.0106\n",
      "Epoch 68/100\n",
      "94/94 - 0s - loss: 0.0020 - accuracy: 0.0106\n",
      "Epoch 69/100\n",
      "94/94 - 0s - loss: 0.0021 - accuracy: 0.0106\n",
      "Epoch 70/100\n",
      "94/94 - 0s - loss: 0.0020 - accuracy: 0.0106\n",
      "Epoch 71/100\n",
      "94/94 - 0s - loss: 0.0020 - accuracy: 0.0106\n",
      "Epoch 72/100\n",
      "94/94 - 0s - loss: 0.0021 - accuracy: 0.0106\n",
      "Epoch 73/100\n",
      "94/94 - 0s - loss: 0.0021 - accuracy: 0.0106\n",
      "Epoch 74/100\n",
      "94/94 - 0s - loss: 0.0020 - accuracy: 0.0106\n",
      "Epoch 75/100\n",
      "94/94 - 0s - loss: 0.0020 - accuracy: 0.0106\n",
      "Epoch 76/100\n",
      "94/94 - 0s - loss: 0.0021 - accuracy: 0.0106\n",
      "Epoch 77/100\n",
      "94/94 - 0s - loss: 0.0021 - accuracy: 0.0106\n",
      "Epoch 78/100\n",
      "94/94 - 0s - loss: 0.0020 - accuracy: 0.0106\n",
      "Epoch 79/100\n",
      "94/94 - 0s - loss: 0.0020 - accuracy: 0.0106\n",
      "Epoch 80/100\n",
      "94/94 - 0s - loss: 0.0021 - accuracy: 0.0106\n",
      "Epoch 81/100\n",
      "94/94 - 0s - loss: 0.0020 - accuracy: 0.0106\n",
      "Epoch 82/100\n",
      "94/94 - 0s - loss: 0.0021 - accuracy: 0.0106\n",
      "Epoch 83/100\n",
      "94/94 - 0s - loss: 0.0020 - accuracy: 0.0106\n",
      "Epoch 84/100\n",
      "94/94 - 0s - loss: 0.0021 - accuracy: 0.0106\n",
      "Epoch 85/100\n",
      "94/94 - 0s - loss: 0.0020 - accuracy: 0.0106\n",
      "Epoch 86/100\n",
      "94/94 - 0s - loss: 0.0021 - accuracy: 0.0106\n",
      "Epoch 87/100\n",
      "94/94 - 0s - loss: 0.0020 - accuracy: 0.0106\n",
      "Epoch 88/100\n",
      "94/94 - 0s - loss: 0.0020 - accuracy: 0.0106\n",
      "Epoch 89/100\n",
      "94/94 - 0s - loss: 0.0020 - accuracy: 0.0106\n",
      "Epoch 90/100\n",
      "94/94 - 0s - loss: 0.0019 - accuracy: 0.0106\n",
      "Epoch 91/100\n",
      "94/94 - 0s - loss: 0.0021 - accuracy: 0.0106\n",
      "Epoch 92/100\n",
      "94/94 - 0s - loss: 0.0020 - accuracy: 0.0106\n",
      "Epoch 93/100\n",
      "94/94 - 0s - loss: 0.0021 - accuracy: 0.0106\n",
      "Epoch 94/100\n",
      "94/94 - 0s - loss: 0.0019 - accuracy: 0.0106\n",
      "Epoch 95/100\n",
      "94/94 - 0s - loss: 0.0020 - accuracy: 0.0106\n",
      "Epoch 96/100\n",
      "94/94 - 0s - loss: 0.0020 - accuracy: 0.0106\n",
      "Epoch 97/100\n",
      "94/94 - 0s - loss: 0.0020 - accuracy: 0.0106\n",
      "Epoch 98/100\n",
      "94/94 - 0s - loss: 0.0020 - accuracy: 0.0106\n",
      "Epoch 99/100\n",
      "94/94 - 0s - loss: 0.0020 - accuracy: 0.0106\n",
      "Epoch 100/100\n",
      "94/94 - 0s - loss: 0.0020 - accuracy: 0.0106\n"
     ]
    },
    {
     "output_type": "execute_result",
     "data": {
      "text/plain": [
       "<tensorflow.python.keras.callbacks.History at 0x17af6a5fb20>"
      ]
     },
     "metadata": {},
     "execution_count": 24
    }
   ],
   "metadata": {}
  },
  {
   "cell_type": "code",
   "execution_count": 25,
   "source": [
    "# make predictions\r\n",
    "trainPredict = model.predict(trainX)\r\n",
    "testPredict = model.predict(testX)"
   ],
   "outputs": [],
   "metadata": {}
  },
  {
   "cell_type": "code",
   "execution_count": 26,
   "source": [
    "# invert predictions\r\n",
    "trainPredict = scaler.inverse_transform(trainPredict)\r\n",
    "trainY = scaler.inverse_transform([trainY])\r\n",
    "testPredict = scaler.inverse_transform(testPredict)\r\n",
    "testY = scaler.inverse_transform([testY])"
   ],
   "outputs": [],
   "metadata": {}
  },
  {
   "cell_type": "code",
   "execution_count": 28,
   "source": [
    "import math\r\n",
    "# calculate root mean squared error\r\n",
    "trainScore = math.sqrt(mean_squared_error(trainY[0], trainPredict[:,0]))\r\n",
    "print('Train Score: %.2f RMSE' % (trainScore))\r\n",
    "testScore = math.sqrt(mean_squared_error(testY[0], testPredict[:,0]))\r\n",
    "print('Test Score: %.2f RMSE' % (testScore))"
   ],
   "outputs": [
    {
     "output_type": "stream",
     "name": "stdout",
     "text": [
      "Train Score: 23.62 RMSE\n",
      "Test Score: 46.65 RMSE\n"
     ]
    }
   ],
   "metadata": {}
  },
  {
   "cell_type": "code",
   "execution_count": 42,
   "source": [
    "# shift test predictions for plotting\r\n",
    "testPredictPlot = np.empty_like(dataset)\r\n",
    "testPredictPlot[:, :] = np.nan\r\n",
    "testPredictPlot[97:143, :] = testPredict"
   ],
   "outputs": [],
   "metadata": {}
  },
  {
   "cell_type": "code",
   "execution_count": 43,
   "source": [
    "#print(len(trainPredict)+(look_back*2)+1,len(dataset)-1) # 97, 143\r\n",
    "testPredictPlot[97: 143]"
   ],
   "outputs": [
    {
     "output_type": "execute_result",
     "data": {
      "text/plain": [
       "array([[319.26437],\n",
       "       [305.76492],\n",
       "       [358.15247],\n",
       "       [350.65225],\n",
       "       [357.21756],\n",
       "       [418.0533 ],\n",
       "       [454.97754],\n",
       "       [456.6527 ],\n",
       "       [402.08972],\n",
       "       [349.7115 ],\n",
       "       [309.63113],\n",
       "       [339.31772],\n",
       "       [343.10672],\n",
       "       [322.14453],\n",
       "       [363.7466 ],\n",
       "       [350.65225],\n",
       "       [364.67627],\n",
       "       [429.3984 ],\n",
       "       [476.46136],\n",
       "       [487.767  ],\n",
       "       [402.08972],\n",
       "       [360.95297],\n",
       "       [314.4538 ],\n",
       "       [340.26596],\n",
       "       [361.8849 ],\n",
       "       [344.99722],\n",
       "       [403.8779 ],\n",
       "       [394.90173],\n",
       "       [416.2942 ],\n",
       "       [460.8242 ],\n",
       "       [521.3634 ],\n",
       "       [529.6902 ],\n",
       "       [453.29855],\n",
       "       [404.77063],\n",
       "       [363.7466 ],\n",
       "       [402.98425],\n",
       "       [413.64847],\n",
       "       [390.38086],\n",
       "       [415.41318],\n",
       "       [451.61584],\n",
       "       [460.8242 ],\n",
       "       [511.38364],\n",
       "       [575.37646],\n",
       "       [564.0884 ],\n",
       "       [490.1659 ],\n",
       "       [451.61584]], dtype=float32)"
      ]
     },
     "metadata": {},
     "execution_count": 43
    }
   ],
   "metadata": {}
  },
  {
   "cell_type": "code",
   "execution_count": 44,
   "source": [
    "# plot baseline and predictions\r\n",
    "plt.plot(scaler.inverse_transform(dataset))\r\n",
    "plt.plot(testPredictPlot)\r\n",
    "plt.plot(testPredictPlot)\r\n",
    "plt.show()"
   ],
   "outputs": [
    {
     "output_type": "display_data",
     "data": {
      "text/plain": [
       "<Figure size 432x288 with 1 Axes>"
      ],
      "image/png": "[encoded data removed]"
     },
     "metadata": {
      "needs_background": "light"
     }
    }
   ],
   "metadata": {}
  },
  {
   "cell_type": "code",
   "execution_count": null,
   "source": [],
   "outputs": [],
   "metadata": {}
  }
 ],
 "metadata": {
  "orig_nbformat": 4,
  "language_info": {
   "name": "python",
   "version": "3.8.2",
   "mimetype": "text/x-python",
   "codemirror_mode": {
    "name": "ipython",
    "version": 3
   },
   "pygments_lexer": "ipython3",
   "nbconvert_exporter": "python",
   "file_extension": ".py"
  },
  "kernelspec": {
   "name": "python3",
   "display_name": "Python 3.8.2 64-bit"
  },
  "interpreter": {
   "hash": "05afa5c9a07b3fd48c7e6ef8d1af746238002bacb79a89054dc968c01b1f64ac"
  }
 },
 "nbformat": 4,
 "nbformat_minor": 2
}